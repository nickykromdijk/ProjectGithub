{
 "cells": [
  {
   "cell_type": "code",
   "execution_count": 76,
   "metadata": {},
   "outputs": [
    {
     "data": {
      "text/html": [
       "<div>\n",
       "<style scoped>\n",
       "    .dataframe tbody tr th:only-of-type {\n",
       "        vertical-align: middle;\n",
       "    }\n",
       "\n",
       "    .dataframe tbody tr th {\n",
       "        vertical-align: top;\n",
       "    }\n",
       "\n",
       "    .dataframe thead th {\n",
       "        text-align: right;\n",
       "    }\n",
       "</style>\n",
       "<table border=\"1\" class=\"dataframe\">\n",
       "  <thead>\n",
       "    <tr style=\"text-align: right;\">\n",
       "      <th></th>\n",
       "      <th>Disease</th>\n",
       "      <th>County</th>\n",
       "      <th>Year</th>\n",
       "      <th>Sex</th>\n",
       "      <th>Cases</th>\n",
       "      <th>Population</th>\n",
       "      <th>Rate</th>\n",
       "    </tr>\n",
       "  </thead>\n",
       "  <tbody>\n",
       "    <tr>\n",
       "      <td>0</td>\n",
       "      <td>Chlamydia</td>\n",
       "      <td>California</td>\n",
       "      <td>2001</td>\n",
       "      <td>Female</td>\n",
       "      <td>75941.0</td>\n",
       "      <td>17339700</td>\n",
       "      <td>438.0</td>\n",
       "    </tr>\n",
       "    <tr>\n",
       "      <td>1</td>\n",
       "      <td>Chlamydia</td>\n",
       "      <td>California</td>\n",
       "      <td>2001</td>\n",
       "      <td>Male</td>\n",
       "      <td>24885.0</td>\n",
       "      <td>17173042</td>\n",
       "      <td>144.9</td>\n",
       "    </tr>\n",
       "    <tr>\n",
       "      <td>2</td>\n",
       "      <td>Chlamydia</td>\n",
       "      <td>California</td>\n",
       "      <td>2001</td>\n",
       "      <td>Total</td>\n",
       "      <td>101590.0</td>\n",
       "      <td>34512742</td>\n",
       "      <td>294.4</td>\n",
       "    </tr>\n",
       "    <tr>\n",
       "      <td>3</td>\n",
       "      <td>Chlamydia</td>\n",
       "      <td>California</td>\n",
       "      <td>2002</td>\n",
       "      <td>Female</td>\n",
       "      <td>81583.0</td>\n",
       "      <td>17554666</td>\n",
       "      <td>464.7</td>\n",
       "    </tr>\n",
       "    <tr>\n",
       "      <td>4</td>\n",
       "      <td>Chlamydia</td>\n",
       "      <td>California</td>\n",
       "      <td>2002</td>\n",
       "      <td>Male</td>\n",
       "      <td>28521.0</td>\n",
       "      <td>17383624</td>\n",
       "      <td>164.1</td>\n",
       "    </tr>\n",
       "  </tbody>\n",
       "</table>\n",
       "</div>"
      ],
      "text/plain": [
       "     Disease      County  Year     Sex     Cases  Population   Rate\n",
       "0  Chlamydia  California  2001  Female   75941.0    17339700  438.0\n",
       "1  Chlamydia  California  2001    Male   24885.0    17173042  144.9\n",
       "2  Chlamydia  California  2001   Total  101590.0    34512742  294.4\n",
       "3  Chlamydia  California  2002  Female   81583.0    17554666  464.7\n",
       "4  Chlamydia  California  2002    Male   28521.0    17383624  164.1"
      ]
     },
     "execution_count": 76,
     "metadata": {},
     "output_type": "execute_result"
    }
   ],
   "source": [
    "import pandas as pd\n",
    "import numpy as np\n",
    "import matplotlib.pyplot as plt\n",
    "\n",
    "df = pd.read_csv(\"std_data.csv\", header=0, sep=\",\", usecols=[0,1,2,3,4,5,6])\n",
    "df.head()"
   ]
  },
  {
   "cell_type": "code",
   "execution_count": 77,
   "metadata": {},
   "outputs": [
    {
     "data": {
      "text/html": [
       "<div>\n",
       "<style scoped>\n",
       "    .dataframe tbody tr th:only-of-type {\n",
       "        vertical-align: middle;\n",
       "    }\n",
       "\n",
       "    .dataframe tbody tr th {\n",
       "        vertical-align: top;\n",
       "    }\n",
       "\n",
       "    .dataframe thead th {\n",
       "        text-align: right;\n",
       "    }\n",
       "</style>\n",
       "<table border=\"1\" class=\"dataframe\">\n",
       "  <thead>\n",
       "    <tr style=\"text-align: right;\">\n",
       "      <th></th>\n",
       "      <th>Column</th>\n",
       "      <th>Format</th>\n",
       "      <th>Description</th>\n",
       "    </tr>\n",
       "  </thead>\n",
       "  <tbody>\n",
       "    <tr>\n",
       "      <td>0</td>\n",
       "      <td>County</td>\n",
       "      <td>Plain text</td>\n",
       "      <td>The county in which the case resided when they...</td>\n",
       "    </tr>\n",
       "    <tr>\n",
       "      <td>1</td>\n",
       "      <td>Year</td>\n",
       "      <td>Number</td>\n",
       "      <td>Year is derived from the date closest to the d...</td>\n",
       "    </tr>\n",
       "    <tr>\n",
       "      <td>2</td>\n",
       "      <td>Sex</td>\n",
       "      <td>Plain text</td>\n",
       "      <td>The patient's biological sex at birth. Female ...</td>\n",
       "    </tr>\n",
       "    <tr>\n",
       "      <td>3</td>\n",
       "      <td>Cases</td>\n",
       "      <td>Number</td>\n",
       "      <td>The number of occurrences of each disease that...</td>\n",
       "    </tr>\n",
       "    <tr>\n",
       "      <td>4</td>\n",
       "      <td>Population</td>\n",
       "      <td>Number</td>\n",
       "      <td>The estimated population size (rounded to the ...</td>\n",
       "    </tr>\n",
       "    <tr>\n",
       "      <td>5</td>\n",
       "      <td>Rate</td>\n",
       "      <td>Number</td>\n",
       "      <td>The rate of disease per 100,000 population for...</td>\n",
       "    </tr>\n",
       "  </tbody>\n",
       "</table>\n",
       "</div>"
      ],
      "text/plain": [
       "       Column      Format                                        Description\n",
       "0      County  Plain text  The county in which the case resided when they...\n",
       "1        Year      Number  Year is derived from the date closest to the d...\n",
       "2         Sex  Plain text  The patient's biological sex at birth. Female ...\n",
       "3       Cases      Number  The number of occurrences of each disease that...\n",
       "4  Population      Number  The estimated population size (rounded to the ...\n",
       "5        Rate      Number  The rate of disease per 100,000 population for..."
      ]
     },
     "execution_count": 77,
     "metadata": {},
     "output_type": "execute_result"
    }
   ],
   "source": [
    "column_description = pd.read_excel(\"column_description.xlsx\", sep=\",\",)\n",
    "column_description.columns = [\"Column\", \"Format\", \"Description\"]\n",
    "column_description"
   ]
  },
  {
   "cell_type": "code",
   "execution_count": 78,
   "metadata": {},
   "outputs": [
    {
     "name": "stdout",
     "output_type": "stream",
     "text": [
      "There were 3 types of STD's studied in Females and Males:  Chlamydia, Early Syphilis, Gonorrhea\n",
      "This study was done in 59 American counties\n",
      "This study was monitored over 18 years, starting from 2001 untill 2018\n"
     ]
    }
   ],
   "source": [
    "type_stds = df[\"Disease\"].unique()\n",
    "n_stds = len(type_stds)\n",
    "\n",
    "counties = df[\"County\"].unique()\n",
    "n_counties = len(counties)\n",
    "\n",
    "years = df[\"Year\"].unique()\n",
    "n_years = len(years)\n",
    "\n",
    "sex = df[\"Sex\"].unique()\n",
    "\n",
    "print(\"There were \" + str(n_stds) + \" types of STD's studied in\", sex[0]+\"s\",\"and\", sex[1]+\"s: \", ', '.join([str(elem) for elem in list(type_stds)]))\n",
    "print(\"This study was done in \" + str(n_counties) + \" American counties\")\n",
    "print(\"This study was monitored over\", n_years, \"years, starting from\", min(years), \"untill\", max(years))"
   ]
  },
  {
   "cell_type": "code",
   "execution_count": 79,
   "metadata": {},
   "outputs": [],
   "source": [
    "gb_ziekte = df.groupby('Disease')\n",
    "cases_sum = gb_ziekte['Cases'].agg('sum')\n",
    "cases_per_std = list(cases_sum)   "
   ]
  },
  {
   "cell_type": "code",
   "execution_count": 80,
   "metadata": {
    "scrolled": true
   },
   "outputs": [
    {
     "name": "stderr",
     "output_type": "stream",
     "text": [
      "C:\\Users\\Nicky Kromdijk\\Anaconda3_2\\lib\\site-packages\\ipykernel_launcher.py:10: MatplotlibDeprecationWarning: Non-1D inputs to pie() are currently squeeze()d, but this behavior is deprecated since 3.1 and will be removed in 3.3; pass a 1D array instead.\n",
      "  # Remove the CWD from sys.path while we load stuff.\n"
     ]
    },
    {
     "data": {
      "image/png": "[encoded data removed]",
      "text/plain": [
       "<Figure size 432x288 with 1 Axes>"
      ]
     },
     "metadata": {},
     "output_type": "display_data"
    }
   ],
   "source": [
    "# Data to plot\n",
    "labels = type_stds\n",
    "sizes = [cases_per_std]\n",
    "colors = ['gold', 'lightcoral', 'lightskyblue']\n",
    "\n",
    "# Plot\n",
    "plt.pie(sizes, labels=labels, colors=colors,\n",
    "autopct='%1.1f%%', shadow=True, startangle=90)\n",
    "\n",
    "plt.title(\"% of cases per STD\")\n",
    "plt.axis('equal')\n",
    "plt.show()\n"
   ]
  }
 ],
 "metadata": {
  "kernelspec": {
   "display_name": "Python 3",
   "language": "python",
   "name": "python3"
  },
  "language_info": {
   "codemirror_mode": {
    "name": "ipython",
    "version": 3
   },
   "file_extension": ".py",
   "mimetype": "text/x-python",
   "name": "python",
   "nbconvert_exporter": "python",
   "pygments_lexer": "ipython3",
   "version": "3.7.4"
  }
 },
 "nbformat": 4,
 "nbformat_minor": 2
}
